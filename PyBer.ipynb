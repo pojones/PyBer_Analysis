{
 "cells": [
  {
   "cell_type": "code",
   "execution_count": 1,
   "id": "a3019f16",
   "metadata": {},
   "outputs": [],
   "source": [
    "%matplotlib inline\n",
    "# magic command inline \n",
    "\n",
    "import matplotlib.pyplot as plt\n",
    "import pandas as pd\n",
    "# import dependencies"
   ]
  },
  {
   "cell_type": "code",
   "execution_count": 2,
   "id": "93db067a",
   "metadata": {},
   "outputs": [],
   "source": [
    "city_data_to_load = \"Resources/city_data.csv\"\n",
    "ride_data_to_load = \"Resources/ride_data.csv\"\n",
    "# create reference variables to our csv files"
   ]
  },
  {
   "cell_type": "code",
   "execution_count": 3,
   "id": "ff0620ac",
   "metadata": {},
   "outputs": [
    {
     "data": {
      "text/html": [
       "<div>\n",
       "<style scoped>\n",
       "    .dataframe tbody tr th:only-of-type {\n",
       "        vertical-align: middle;\n",
       "    }\n",
       "\n",
       "    .dataframe tbody tr th {\n",
       "        vertical-align: top;\n",
       "    }\n",
       "\n",
       "    .dataframe thead th {\n",
       "        text-align: right;\n",
       "    }\n",
       "</style>\n",
       "<table border=\"1\" class=\"dataframe\">\n",
       "  <thead>\n",
       "    <tr style=\"text-align: right;\">\n",
       "      <th></th>\n",
       "      <th>city</th>\n",
       "      <th>driver_count</th>\n",
       "      <th>type</th>\n",
       "    </tr>\n",
       "  </thead>\n",
       "  <tbody>\n",
       "    <tr>\n",
       "      <th>0</th>\n",
       "      <td>Richardfort</td>\n",
       "      <td>38</td>\n",
       "      <td>Urban</td>\n",
       "    </tr>\n",
       "    <tr>\n",
       "      <th>1</th>\n",
       "      <td>Williamsstad</td>\n",
       "      <td>59</td>\n",
       "      <td>Urban</td>\n",
       "    </tr>\n",
       "    <tr>\n",
       "      <th>2</th>\n",
       "      <td>Port Angela</td>\n",
       "      <td>67</td>\n",
       "      <td>Urban</td>\n",
       "    </tr>\n",
       "    <tr>\n",
       "      <th>3</th>\n",
       "      <td>Rodneyfort</td>\n",
       "      <td>34</td>\n",
       "      <td>Urban</td>\n",
       "    </tr>\n",
       "    <tr>\n",
       "      <th>4</th>\n",
       "      <td>West Robert</td>\n",
       "      <td>39</td>\n",
       "      <td>Urban</td>\n",
       "    </tr>\n",
       "    <tr>\n",
       "      <th>5</th>\n",
       "      <td>West Anthony</td>\n",
       "      <td>70</td>\n",
       "      <td>Urban</td>\n",
       "    </tr>\n",
       "    <tr>\n",
       "      <th>6</th>\n",
       "      <td>West Angela</td>\n",
       "      <td>48</td>\n",
       "      <td>Urban</td>\n",
       "    </tr>\n",
       "    <tr>\n",
       "      <th>7</th>\n",
       "      <td>Martinezhaven</td>\n",
       "      <td>25</td>\n",
       "      <td>Urban</td>\n",
       "    </tr>\n",
       "    <tr>\n",
       "      <th>8</th>\n",
       "      <td>Karenberg</td>\n",
       "      <td>22</td>\n",
       "      <td>Urban</td>\n",
       "    </tr>\n",
       "    <tr>\n",
       "      <th>9</th>\n",
       "      <td>Barajasview</td>\n",
       "      <td>26</td>\n",
       "      <td>Urban</td>\n",
       "    </tr>\n",
       "  </tbody>\n",
       "</table>\n",
       "</div>"
      ],
      "text/plain": [
       "            city  driver_count   type\n",
       "0    Richardfort            38  Urban\n",
       "1   Williamsstad            59  Urban\n",
       "2    Port Angela            67  Urban\n",
       "3     Rodneyfort            34  Urban\n",
       "4    West Robert            39  Urban\n",
       "5   West Anthony            70  Urban\n",
       "6    West Angela            48  Urban\n",
       "7  Martinezhaven            25  Urban\n",
       "8      Karenberg            22  Urban\n",
       "9    Barajasview            26  Urban"
      ]
     },
     "execution_count": 3,
     "metadata": {},
     "output_type": "execute_result"
    }
   ],
   "source": [
    "city_data_df = pd.read_csv(city_data_to_load)\n",
    "# read the csv file \"city_data_to_load\" into city dataframe\n",
    "city_data_df.head(10)\n",
    "# display the first ten rows of the dataframe"
   ]
  },
  {
   "cell_type": "code",
   "execution_count": 4,
   "id": "28343d39",
   "metadata": {},
   "outputs": [
    {
     "data": {
      "text/html": [
       "<div>\n",
       "<style scoped>\n",
       "    .dataframe tbody tr th:only-of-type {\n",
       "        vertical-align: middle;\n",
       "    }\n",
       "\n",
       "    .dataframe tbody tr th {\n",
       "        vertical-align: top;\n",
       "    }\n",
       "\n",
       "    .dataframe thead th {\n",
       "        text-align: right;\n",
       "    }\n",
       "</style>\n",
       "<table border=\"1\" class=\"dataframe\">\n",
       "  <thead>\n",
       "    <tr style=\"text-align: right;\">\n",
       "      <th></th>\n",
       "      <th>city</th>\n",
       "      <th>date</th>\n",
       "      <th>fare</th>\n",
       "      <th>ride_id</th>\n",
       "    </tr>\n",
       "  </thead>\n",
       "  <tbody>\n",
       "    <tr>\n",
       "      <th>0</th>\n",
       "      <td>Lake Jonathanshire</td>\n",
       "      <td>2019-01-14 10:14:22</td>\n",
       "      <td>13.83</td>\n",
       "      <td>5739410935873</td>\n",
       "    </tr>\n",
       "    <tr>\n",
       "      <th>1</th>\n",
       "      <td>South Michelleport</td>\n",
       "      <td>2019-03-04 18:24:09</td>\n",
       "      <td>30.24</td>\n",
       "      <td>2343912425577</td>\n",
       "    </tr>\n",
       "    <tr>\n",
       "      <th>2</th>\n",
       "      <td>Port Samanthamouth</td>\n",
       "      <td>2019-02-24 04:29:00</td>\n",
       "      <td>33.44</td>\n",
       "      <td>2005065760003</td>\n",
       "    </tr>\n",
       "    <tr>\n",
       "      <th>3</th>\n",
       "      <td>Rodneyfort</td>\n",
       "      <td>2019-02-10 23:22:03</td>\n",
       "      <td>23.44</td>\n",
       "      <td>5149245426178</td>\n",
       "    </tr>\n",
       "    <tr>\n",
       "      <th>4</th>\n",
       "      <td>South Jack</td>\n",
       "      <td>2019-03-06 04:28:35</td>\n",
       "      <td>34.58</td>\n",
       "      <td>3908451377344</td>\n",
       "    </tr>\n",
       "    <tr>\n",
       "      <th>5</th>\n",
       "      <td>South Latoya</td>\n",
       "      <td>2019-03-11 12:26:48</td>\n",
       "      <td>9.52</td>\n",
       "      <td>1994999424437</td>\n",
       "    </tr>\n",
       "    <tr>\n",
       "      <th>6</th>\n",
       "      <td>New Paulville</td>\n",
       "      <td>2019-02-27 11:17:56</td>\n",
       "      <td>43.25</td>\n",
       "      <td>793208410091</td>\n",
       "    </tr>\n",
       "    <tr>\n",
       "      <th>7</th>\n",
       "      <td>Simpsonburgh</td>\n",
       "      <td>2019-04-26 00:43:24</td>\n",
       "      <td>35.98</td>\n",
       "      <td>111953927754</td>\n",
       "    </tr>\n",
       "    <tr>\n",
       "      <th>8</th>\n",
       "      <td>South Karenland</td>\n",
       "      <td>2019-01-08 03:28:48</td>\n",
       "      <td>35.09</td>\n",
       "      <td>7995623208694</td>\n",
       "    </tr>\n",
       "    <tr>\n",
       "      <th>9</th>\n",
       "      <td>North Jasmine</td>\n",
       "      <td>2019-03-09 06:26:29</td>\n",
       "      <td>42.81</td>\n",
       "      <td>5327642267789</td>\n",
       "    </tr>\n",
       "  </tbody>\n",
       "</table>\n",
       "</div>"
      ],
      "text/plain": [
       "                 city                 date   fare        ride_id\n",
       "0  Lake Jonathanshire  2019-01-14 10:14:22  13.83  5739410935873\n",
       "1  South Michelleport  2019-03-04 18:24:09  30.24  2343912425577\n",
       "2  Port Samanthamouth  2019-02-24 04:29:00  33.44  2005065760003\n",
       "3          Rodneyfort  2019-02-10 23:22:03  23.44  5149245426178\n",
       "4          South Jack  2019-03-06 04:28:35  34.58  3908451377344\n",
       "5        South Latoya  2019-03-11 12:26:48   9.52  1994999424437\n",
       "6       New Paulville  2019-02-27 11:17:56  43.25   793208410091\n",
       "7        Simpsonburgh  2019-04-26 00:43:24  35.98   111953927754\n",
       "8     South Karenland  2019-01-08 03:28:48  35.09  7995623208694\n",
       "9       North Jasmine  2019-03-09 06:26:29  42.81  5327642267789"
      ]
     },
     "execution_count": 4,
     "metadata": {},
     "output_type": "execute_result"
    }
   ],
   "source": [
    "ride_data_df = pd.read_csv(ride_data_to_load)\n",
    "# read the csv file \"ride_data_to_load\" into ride dataframe\n",
    "ride_data_df.head(10)\n",
    "# display the first ten rows of the dataframe"
   ]
  },
  {
   "cell_type": "code",
   "execution_count": 5,
   "id": "c9ddd5b8",
   "metadata": {},
   "outputs": [
    {
     "data": {
      "text/plain": [
       "(city            120\n",
       " driver_count    120\n",
       " type            120\n",
       " dtype: int64,\n",
       " city            0\n",
       " driver_count    0\n",
       " type            0\n",
       " dtype: int64)"
      ]
     },
     "execution_count": 5,
     "metadata": {},
     "output_type": "execute_result"
    }
   ],
   "source": [
    "## before merging our dataframes, we want to explore them to make sure the data is clean and there are no missing values\n",
    "# first, the city dataframe:\n",
    "\n",
    "city_data_df.count(), city_data_df.isnull().sum()\n",
    "# count the number of rows in the city dataframe\n",
    "# shows a count of any cells out of each row that may be empty"
   ]
  },
  {
   "cell_type": "code",
   "execution_count": 6,
   "id": "5afb5f1b",
   "metadata": {},
   "outputs": [
    {
     "data": {
      "text/plain": [
       "city            object\n",
       "driver_count     int64\n",
       "type            object\n",
       "dtype: object"
      ]
     },
     "execution_count": 6,
     "metadata": {},
     "output_type": "execute_result"
    }
   ],
   "source": [
    "city_data_df.dtypes\n",
    "# gather data types of each column in city dataframe"
   ]
  },
  {
   "cell_type": "code",
   "execution_count": 7,
   "id": "5873ad36",
   "metadata": {},
   "outputs": [
    {
     "data": {
      "text/plain": [
       "array(['Urban', 'Suburban', 'Rural'], dtype=object)"
      ]
     },
     "execution_count": 7,
     "metadata": {},
     "output_type": "execute_result"
    }
   ],
   "source": [
    "city_data_df[\"type\"].unique()\n",
    "# gather the unique values from the row that contains the types of city"
   ]
  },
  {
   "cell_type": "code",
   "execution_count": 8,
   "id": "fb1d6b6b",
   "metadata": {},
   "outputs": [
    {
     "data": {
      "text/plain": [
       "(66, 36, 18)"
      ]
     },
     "execution_count": 8,
     "metadata": {},
     "output_type": "execute_result"
    }
   ],
   "source": [
    "sum(city_data_df[\"type\"]==\"Urban\"), sum(city_data_df[\"type\"]==\"Suburban\"), sum(city_data_df[\"type\"]==\"Rural\")\n",
    "# get the number of data points from the \"Urban\" city types\n",
    "# get the number of data points from the \"Suburban\" city types\n",
    "# get the number of data points from the \"Rural\" city types"
   ]
  },
  {
   "cell_type": "code",
   "execution_count": 9,
   "id": "c9c9ded6",
   "metadata": {},
   "outputs": [
    {
     "data": {
      "text/plain": [
       "(city       2375\n",
       " date       2375\n",
       " fare       2375\n",
       " ride_id    2375\n",
       " dtype: int64,\n",
       " city       0\n",
       " date       0\n",
       " fare       0\n",
       " ride_id    0\n",
       " dtype: int64)"
      ]
     },
     "execution_count": 9,
     "metadata": {},
     "output_type": "execute_result"
    }
   ],
   "source": [
    "# now inspect the data for the fare dataframe\n",
    "\n",
    "ride_data_df.count(), ride_data_df.isnull().sum()\n",
    "# count the number of rows in the fare dataframe\n",
    "# shows a count of any cells out of each row that may be empty"
   ]
  },
  {
   "cell_type": "code",
   "execution_count": 10,
   "id": "bd1073a8",
   "metadata": {},
   "outputs": [
    {
     "data": {
      "text/plain": [
       "city        object\n",
       "date        object\n",
       "fare       float64\n",
       "ride_id      int64\n",
       "dtype: object"
      ]
     },
     "execution_count": 10,
     "metadata": {},
     "output_type": "execute_result"
    }
   ],
   "source": [
    "ride_data_df.dtypes\n",
    "# gather the data types of each column in fare dataframe"
   ]
  },
  {
   "cell_type": "code",
   "execution_count": 11,
   "id": "f8be17dc",
   "metadata": {},
   "outputs": [
    {
     "data": {
      "text/html": [
       "<div>\n",
       "<style scoped>\n",
       "    .dataframe tbody tr th:only-of-type {\n",
       "        vertical-align: middle;\n",
       "    }\n",
       "\n",
       "    .dataframe tbody tr th {\n",
       "        vertical-align: top;\n",
       "    }\n",
       "\n",
       "    .dataframe thead th {\n",
       "        text-align: right;\n",
       "    }\n",
       "</style>\n",
       "<table border=\"1\" class=\"dataframe\">\n",
       "  <thead>\n",
       "    <tr style=\"text-align: right;\">\n",
       "      <th></th>\n",
       "      <th>city</th>\n",
       "      <th>date</th>\n",
       "      <th>fare</th>\n",
       "      <th>ride_id</th>\n",
       "      <th>driver_count</th>\n",
       "      <th>type</th>\n",
       "    </tr>\n",
       "  </thead>\n",
       "  <tbody>\n",
       "    <tr>\n",
       "      <th>0</th>\n",
       "      <td>Lake Jonathanshire</td>\n",
       "      <td>2019-01-14 10:14:22</td>\n",
       "      <td>13.83</td>\n",
       "      <td>5739410935873</td>\n",
       "      <td>5</td>\n",
       "      <td>Urban</td>\n",
       "    </tr>\n",
       "    <tr>\n",
       "      <th>1</th>\n",
       "      <td>South Michelleport</td>\n",
       "      <td>2019-03-04 18:24:09</td>\n",
       "      <td>30.24</td>\n",
       "      <td>2343912425577</td>\n",
       "      <td>72</td>\n",
       "      <td>Urban</td>\n",
       "    </tr>\n",
       "    <tr>\n",
       "      <th>2</th>\n",
       "      <td>Port Samanthamouth</td>\n",
       "      <td>2019-02-24 04:29:00</td>\n",
       "      <td>33.44</td>\n",
       "      <td>2005065760003</td>\n",
       "      <td>57</td>\n",
       "      <td>Urban</td>\n",
       "    </tr>\n",
       "    <tr>\n",
       "      <th>3</th>\n",
       "      <td>Rodneyfort</td>\n",
       "      <td>2019-02-10 23:22:03</td>\n",
       "      <td>23.44</td>\n",
       "      <td>5149245426178</td>\n",
       "      <td>34</td>\n",
       "      <td>Urban</td>\n",
       "    </tr>\n",
       "    <tr>\n",
       "      <th>4</th>\n",
       "      <td>South Jack</td>\n",
       "      <td>2019-03-06 04:28:35</td>\n",
       "      <td>34.58</td>\n",
       "      <td>3908451377344</td>\n",
       "      <td>46</td>\n",
       "      <td>Urban</td>\n",
       "    </tr>\n",
       "  </tbody>\n",
       "</table>\n",
       "</div>"
      ],
      "text/plain": [
       "                 city                 date   fare        ride_id  \\\n",
       "0  Lake Jonathanshire  2019-01-14 10:14:22  13.83  5739410935873   \n",
       "1  South Michelleport  2019-03-04 18:24:09  30.24  2343912425577   \n",
       "2  Port Samanthamouth  2019-02-24 04:29:00  33.44  2005065760003   \n",
       "3          Rodneyfort  2019-02-10 23:22:03  23.44  5149245426178   \n",
       "4          South Jack  2019-03-06 04:28:35  34.58  3908451377344   \n",
       "\n",
       "   driver_count   type  \n",
       "0             5  Urban  \n",
       "1            72  Urban  \n",
       "2            57  Urban  \n",
       "3            34  Urban  \n",
       "4            46  Urban  "
      ]
     },
     "execution_count": 11,
     "metadata": {},
     "output_type": "execute_result"
    }
   ],
   "source": [
    "## now that we have inspected our dataframes, we can merge them for analysis\n",
    "\n",
    "pyber_data_df = pd.merge(ride_data_df, city_data_df, how=\"left\", on=[\"city\", \"city\"])\n",
    "# merge the two dataframes on the \"city\" column, with the constraint \"left\"\n",
    "\n",
    "pyber_data_df.head()\n",
    "# display the master dataframe's first five entries"
   ]
  },
  {
   "cell_type": "code",
   "execution_count": 12,
   "id": "cd713d14",
   "metadata": {},
   "outputs": [
    {
     "data": {
      "text/plain": [
       "(                 city                 date   fare        ride_id  \\\n",
       " 0  Lake Jonathanshire  2019-01-14 10:14:22  13.83  5739410935873   \n",
       " 1  South Michelleport  2019-03-04 18:24:09  30.24  2343912425577   \n",
       " 2  Port Samanthamouth  2019-02-24 04:29:00  33.44  2005065760003   \n",
       " 3          Rodneyfort  2019-02-10 23:22:03  23.44  5149245426178   \n",
       " 4          South Jack  2019-03-06 04:28:35  34.58  3908451377344   \n",
       " \n",
       "    driver_count   type  \n",
       " 0             5  Urban  \n",
       " 1            72  Urban  \n",
       " 2            57  Urban  \n",
       " 3            34  Urban  \n",
       " 4            46  Urban  ,\n",
       "                city                 date   fare        ride_id  driver_count  \\\n",
       " 1625  Barronchester  2019-01-27 03:08:01  27.79  6653622887913            11   \n",
       " 1626  East Kentstad  2019-04-07 19:44:19  18.75  6575961095852            20   \n",
       " 1627      Lake Omar  2019-01-17 21:33:35  21.71   966911700371            22   \n",
       " 1628     Myersshire  2019-02-27 17:38:39  17.10  5706770909868            19   \n",
       " 1629    West Hannah  2019-04-19 01:06:59  37.78  2273047151891            12   \n",
       " \n",
       "           type  \n",
       " 1625  Suburban  \n",
       " 1626  Suburban  \n",
       " 1627  Suburban  \n",
       " 1628  Suburban  \n",
       " 1629  Suburban  ,\n",
       "                  city                 date   fare        ride_id  \\\n",
       " 2250   Randallchester  2019-04-13 11:13:31  43.22  1076079536213   \n",
       " 2251      North Holly  2019-02-02 14:54:00  12.42  1985256326182   \n",
       " 2252      Michaelberg  2019-03-27 18:27:34  54.85  4421836952718   \n",
       " 2253  Lake Latoyabury  2019-02-23 21:12:24  47.90  3269652929887   \n",
       " 2254  Lake Latoyabury  2019-05-06 08:57:56  51.80  4018025271936   \n",
       " \n",
       "       driver_count   type  \n",
       " 2250             9  Rural  \n",
       " 2251             8  Rural  \n",
       " 2252             6  Rural  \n",
       " 2253             2  Rural  \n",
       " 2254             2  Rural  )"
      ]
     },
     "execution_count": 12,
     "metadata": {},
     "output_type": "execute_result"
    }
   ],
   "source": [
    "## our dataframes merged, we can now do a quick visual analysis using a bubble chart. This will be most easily achieved\n",
    "## using separate dataframes for each type of city\n",
    "\n",
    "urban_cities_df = pyber_data_df[pyber_data_df[\"type\"] == \"Urban\"]\n",
    "suburban_cities_df = pyber_data_df[pyber_data_df[\"type\"] == \"Suburban\"]\n",
    "rural_cities_df = pyber_data_df[pyber_data_df[\"type\"] == \"Rural\"]\n",
    "# create the urban, suburban, and rural type dataframes\n",
    "\n",
    "urban_cities_df.head(), suburban_cities_df.head(), rural_cities_df.head()\n",
    "# display the first few lines of each dataframe so we know what we're working with"
   ]
  },
  {
   "cell_type": "code",
   "execution_count": 13,
   "id": "a90beab7",
   "metadata": {},
   "outputs": [
    {
     "data": {
      "text/plain": [
       "(city\n",
       " Amandaburgh        18\n",
       " Barajasview        22\n",
       " Carriemouth        27\n",
       " Christopherfurt    27\n",
       " Deanville          19\n",
       " Name: ride_id, dtype: int64,\n",
       " city\n",
       " Barronchester    16\n",
       " Bethanyland      18\n",
       " Brandonfort      19\n",
       " Colemanland      22\n",
       " Davidfurt        17\n",
       " Name: ride_id, dtype: int64,\n",
       " city\n",
       " Bradshawfurt      10\n",
       " Garzaport          3\n",
       " Harringtonfort     6\n",
       " Jessicaport        6\n",
       " Lake Jamie         6\n",
       " Name: ride_id, dtype: int64)"
      ]
     },
     "execution_count": 13,
     "metadata": {},
     "output_type": "execute_result"
    }
   ],
   "source": [
    "## now we want to generate a ride count for each city by each type of city. This will eventually represent our x-axis\n",
    "\n",
    "urban_ride_count = urban_cities_df.groupby([\"city\"]).count()[\"ride_id\"]\n",
    "suburban_ride_count = suburban_cities_df.groupby([\"city\"]).count()[\"ride_id\"]\n",
    "rural_ride_count = rural_cities_df.groupby([\"city\"]).count()[\"ride_id\"]\n",
    "# creates three series that count the number of rides for each city, grouped by city and categorized by city type\n",
    "\n",
    "urban_ride_count.head(), suburban_ride_count.head(), rural_ride_count.head()"
   ]
  },
  {
   "cell_type": "code",
   "execution_count": 14,
   "id": "615ef2b0",
   "metadata": {},
   "outputs": [
    {
     "data": {
      "text/plain": [
       "(city\n",
       " Amandaburgh        24.641667\n",
       " Barajasview        25.332273\n",
       " Carriemouth        28.314444\n",
       " Christopherfurt    24.501852\n",
       " Deanville          25.842632\n",
       " Name: fare, dtype: float64,\n",
       " city\n",
       " Barronchester    36.422500\n",
       " Bethanyland      32.956111\n",
       " Brandonfort      35.437368\n",
       " Colemanland      30.894545\n",
       " Davidfurt        31.995882\n",
       " Name: fare, dtype: float64,\n",
       " city\n",
       " Bradshawfurt      40.064000\n",
       " Garzaport         24.123333\n",
       " Harringtonfort    33.470000\n",
       " Jessicaport       36.013333\n",
       " Lake Jamie        34.358333\n",
       " Name: fare, dtype: float64)"
      ]
     },
     "execution_count": 14,
     "metadata": {},
     "output_type": "execute_result"
    }
   ],
   "source": [
    "## now we want the average city fare by each type of city. This will eventually represent our y-axis\n",
    "\n",
    "urban_avg_fare = urban_cities_df.groupby([\"city\"]).mean()[\"fare\"]\n",
    "suburban_avg_fare = suburban_cities_df.groupby([\"city\"]).mean()[\"fare\"]\n",
    "rural_avg_fare = rural_cities_df.groupby([\"city\"]).mean()[\"fare\"]\n",
    "# creates three series that average the city fare data, grouped by city and categorized by city type\n",
    "\n",
    "urban_avg_fare.head(), suburban_avg_fare.head(), rural_avg_fare.head()"
   ]
  },
  {
   "cell_type": "code",
   "execution_count": 15,
   "id": "1f22834d",
   "metadata": {},
   "outputs": [
    {
     "data": {
      "text/plain": [
       "(city\n",
       " Amandaburgh        12.0\n",
       " Barajasview        26.0\n",
       " Carriemouth        52.0\n",
       " Christopherfurt    41.0\n",
       " Deanville          49.0\n",
       " Name: driver_count, dtype: float64,\n",
       " city\n",
       " Barronchester    11.0\n",
       " Bethanyland      22.0\n",
       " Brandonfort      10.0\n",
       " Colemanland      23.0\n",
       " Davidfurt        23.0\n",
       " Name: driver_count, dtype: float64,\n",
       " city\n",
       " Bradshawfurt      7.0\n",
       " Garzaport         7.0\n",
       " Harringtonfort    4.0\n",
       " Jessicaport       1.0\n",
       " Lake Jamie        4.0\n",
       " Name: driver_count, dtype: float64)"
      ]
     },
     "execution_count": 15,
     "metadata": {},
     "output_type": "execute_result"
    }
   ],
   "source": [
    "## with the info we already have, we can create a simple scatterplot. If we gather some data about the number of drivers\n",
    "## per city, we can see how rides and fare data are affected by the number of drivers in an area\n",
    "\n",
    "urban_driver_count = urban_cities_df.groupby([\"city\"]).mean()[\"driver_count\"]\n",
    "suburban_driver_count = suburban_cities_df.groupby([\"city\"]).mean()[\"driver_count\"]\n",
    "rural_driver_count = rural_cities_df.groupby([\"city\"]).mean()[\"driver_count\"]\n",
    "# creates three series that average the driver counts by city, grouped by city an categorized by city type\n",
    "\n",
    "urban_driver_count.head(), suburban_driver_count.head(), rural_driver_count.head()"
   ]
  },
  {
   "cell_type": "code",
   "execution_count": 16,
   "id": "006fa300",
   "metadata": {},
   "outputs": [
    {
     "data": {
      "text/plain": [
       "Text(42, 35, 'Note: Circle size correlates with driver count per city.')"
      ]
     },
     "execution_count": 16,
     "metadata": {},
     "output_type": "execute_result"
    },
    {
     "data": {
      "image/png": "[encoded data removed]",
      "text/plain": [
       "<Figure size 432x288 with 1 Axes>"
      ]
     },
     "metadata": {
      "needs_background": "light"
     },
     "output_type": "display_data"
    }
   ],
   "source": [
    "## now that we've gathered all the necessary variables for our graphs, let's create them. If we need to visualize each\n",
    "## scatterplot separately, we can use separate cells and do them one at a time. In the same cell, however, they will stack\n",
    "\n",
    "# build the scatterplot for urban cities\n",
    "plt.scatter(urban_ride_count,\n",
    "      urban_avg_fare,\n",
    "      s=10*urban_driver_count, c=\"coral\",\n",
    "      edgecolor=\"black\", linewidths=1,\n",
    "      alpha=0.8, label=\"Urban\")\n",
    "plt.title(\"PyBer Ride-Sharing Data (2019)\")\n",
    "plt.ylabel(\"Average Fare ($)\")\n",
    "plt.xlabel(\"Total Number of Rides (Per City)\")\n",
    "plt.grid(True)\n",
    "# Add the legend.\n",
    "plt.legend()\n",
    "\n",
    "# build the scatterplot for suburban cities\n",
    "plt.scatter(suburban_ride_count,\n",
    "      suburban_avg_fare,\n",
    "      s=10*suburban_driver_count, c=\"skyblue\",\n",
    "      edgecolor=\"black\", linewidths=1,\n",
    "      alpha=0.8, label=\"Suburban\")\n",
    "plt.title(\"PyBer Ride-Sharing Data (2019)\")\n",
    "plt.ylabel(\"Average Fare ($)\")\n",
    "plt.xlabel(\"Total Number of Rides (Per City)\")\n",
    "plt.grid(True)\n",
    "# Add the legend.\n",
    "plt.legend()\n",
    "\n",
    "# build the scatterplot for rural cities\n",
    "plt.scatter(rural_ride_count,\n",
    "      rural_avg_fare,\n",
    "      s=10*rural_driver_count, c=\"gold\",\n",
    "      edgecolor=\"black\", linewidths=1,\n",
    "      alpha=0.8, label=\"Rural\")\n",
    "plt.title(\"PyBer Ride-Sharing Data (2019)\")\n",
    "plt.ylabel(\"Average Fare ($)\")\n",
    "plt.xlabel(\"Total Number of Rides (Per City)\")\n",
    "plt.grid(True)\n",
    "# Add the legend.\n",
    "plt.legend()\n",
    "\n",
    "## notice there's an issue with the markers in our legend, though. This is because the marker in legend is sized according\n",
    "## to the average marker size for that city type. We can format this by adding a constructor\n",
    "\n",
    "lgnd = plt.legend(fontsize=\"12\", mode=\"Expanded\",\n",
    "         scatterpoints=1, loc=\"best\", title=\"City Types\")\n",
    "lgnd.legendHandles[0]._sizes = [75]\n",
    "lgnd.legendHandles[1]._sizes = [75]\n",
    "lgnd.legendHandles[2]._sizes = [75]\n",
    "lgnd.get_title().set_fontsize(12)\n",
    "\n",
    "# Incorporate a text label about circle size.\n",
    "plt.text(42, 35, \"Note: Circle size correlates with driver count per city.\", fontsize=\"12\")"
   ]
  },
  {
   "cell_type": "code",
   "execution_count": 17,
   "id": "94bfdca8",
   "metadata": {},
   "outputs": [
    {
     "data": {
      "text/plain": [
       "<Figure size 432x288 with 0 Axes>"
      ]
     },
     "metadata": {},
     "output_type": "display_data"
    }
   ],
   "source": [
    "plt.savefig(\"analysis/Fig1.png\")\n",
    "# this will save the png to the folder \"analysis\" in the jupyter folder. Make sure there is a folder named \"analysis\""
   ]
  }
 ],
 "metadata": {
  "kernelspec": {
   "display_name": "PythonData",
   "language": "python",
   "name": "pythondata"
  },
  "language_info": {
   "codemirror_mode": {
    "name": "ipython",
    "version": 3
   },
   "file_extension": ".py",
   "mimetype": "text/x-python",
   "name": "python",
   "nbconvert_exporter": "python",
   "pygments_lexer": "ipython3",
   "version": "3.9.12"
  }
 },
 "nbformat": 4,
 "nbformat_minor": 5
}
